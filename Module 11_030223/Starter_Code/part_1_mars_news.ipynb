{
 "cells": [
  {
   "cell_type": "markdown",
   "metadata": {},
   "source": [
    "# Module 12 Challenge\n",
    "## Deliverable 1: Scrape Titles and Preview Text from Mars News"
   ]
  },
  {
   "cell_type": "code",
   "execution_count": 40,
   "metadata": {},
   "outputs": [],
   "source": [
    "# Import Splinter and BeautifulSoup\n",
    "from splinter import Browser\n",
    "from bs4 import BeautifulSoup\n",
    "import pandas as pd"
   ]
  },
  {
   "cell_type": "code",
   "execution_count": 41,
   "metadata": {
    "scrolled": true
   },
   "outputs": [],
   "source": [
    "browser = Browser('chrome')"
   ]
  },
  {
   "cell_type": "markdown",
   "metadata": {},
   "source": [
    "### Step 1: Visit the Website\n",
    "\n",
    "1. Use automated browsing to visit the [Mars news site](https://static.bc-edx.com/data/web/mars_news/index.html). Inspect the page to identify which elements to scrape.\n",
    "\n",
    "      > **Hint** To identify which elements to scrape, you might want to inspect the page by using Chrome DevTools."
   ]
  },
  {
   "cell_type": "code",
   "execution_count": 42,
   "metadata": {},
   "outputs": [
    {
     "data": {
      "text/plain": [
       "True"
      ]
     },
     "execution_count": 42,
     "metadata": {},
     "output_type": "execute_result"
    }
   ],
   "source": [
    "# Visit the Mars news site: https://static.bc-edx.com/data/web/mars_news/index.html\n",
    "url = 'https://mars.nasa.gov/news/'\n",
    "browser.visit(url)\n",
    "browser.is_element_present_by_css(\"ul.item_list li.slide\", wait_time=1)"
   ]
  },
  {
   "cell_type": "markdown",
   "metadata": {},
   "source": [
    "### Step 2: Scrape the Website\n",
    "\n",
    "Create a Beautiful Soup object and use it to extract text elements from the website."
   ]
  },
  {
   "cell_type": "code",
   "execution_count": 43,
   "metadata": {},
   "outputs": [],
   "source": [
    "# Create a Beautiful Soup object\n",
    "html=browser.html\n",
    "soup = BeautifulSoup(html, 'html.parser')"
   ]
  },
  {
   "cell_type": "code",
   "execution_count": 44,
   "metadata": {},
   "outputs": [],
   "source": [
    "# Extract all the text elements\n",
    "text = soup.find_all('div', class_='list_text')"
   ]
  },
  {
   "cell_type": "markdown",
   "metadata": {},
   "source": [
    "### Step 3: Store the Results\n",
    "\n",
    "Extract the titles and preview text of the news articles that you scraped. Store the scraping results in Python data structures as follows:\n",
    "\n",
    "* Store each title-and-preview pair in a Python dictionary. And, give each dictionary two keys: `title` and `preview`. An example is the following:\n",
    "\n",
    "  ```python\n",
    "  {'title': \"NASA's MAVEN Observes Martian Light Show Caused by Major Solar Storm\", \n",
    "   'preview': \"For the first time in its eight years orbiting Mars, NASA’s MAVEN mission witnessed two different types of ultraviolet aurorae simultaneously, the result of solar storms that began on Aug. 27.\"\n",
    "  }\n",
    "  ```\n",
    "\n",
    "* Store all the dictionaries in a Python list.\n",
    "\n",
    "* Print the list in your notebook."
   ]
  },
  {
   "cell_type": "code",
   "execution_count": 48,
   "metadata": {},
   "outputs": [],
   "source": [
    "# Create an empty list to store the dictionaries\n",
    "data_dict=[]"
   ]
  },
  {
   "cell_type": "code",
   "execution_count": 52,
   "metadata": {},
   "outputs": [],
   "source": [
    "# Loop through the text elements\n",
    "# Extract the title and preview text from the elements\n",
    "# Store each title and preview pair in a dictionary\n",
    "# Add the dictionary to the list\n",
    "for x in text:\n",
    "    title = x.find('div',class_='content_title').text\n",
    "    paragraph = x.find('div', class_='article_teaser_body').text\n",
    "    mars_dict = {\"title\":title, \"paragraph\":paragraph}\n",
    "    data_dict.append(mars_dict)\n"
   ]
  },
  {
   "cell_type": "code",
   "execution_count": 51,
   "metadata": {},
   "outputs": [
    {
     "name": "stdout",
     "output_type": "stream",
     "text": [
      "[{'title': \"Engineers Keep an Eye on Fuel Supply of NASA's Oldest Mars Orbiter\", 'paragraph': 'Measuring the fuel supply on a decades-old spacecraft without a fuel gauge is no easy task. '}, {'title': \"NASA's Curiosity Views First 'Sun Rays' on Mars\", 'paragraph': 'The veteran rover captured a dazzling sunset at the start of a new cloud-imaging campaign.'}, {'title': \"NASA's Perseverance Rover Set to Begin Third Year at Jezero Crater\", 'paragraph': 'After completing the first sample depot on another world, the rover continues its hunt for Mars rocks worthy of study on Earth.'}, {'title': \"NASA's Perseverance Rover Shows Off Collection of Mars Samples\", 'paragraph': 'The Red Planet rover snapped a portrait of the sample depot it has assembled with 10 backup sample tubes that could be returned to Earth by a future mission.'}, {'title': \"NASA's Curiosity Finds Surprise Clues to Mars' Watery Past\", 'paragraph': 'Among other discoveries made by the rover, rippled rock textures suggest lakes existed in a region of ancient Mars that scientists expected to be drier. '}, {'title': \"NASA's Perseverance Rover Completes Mars Sample Depot\", 'paragraph': 'Ten sample tubes, capturing an amazing variety of Martian geology, have been deposited on Mars’ surface so they could be studied on Earth in the future.'}, {'title': 'NASA Explores a Winter Wonderland on Mars', 'paragraph': 'Cube-shaped snow, icy landscapes, and frost are all part of the Red Planet’s coldest season.'}, {'title': \"NASA's Perseverance Rover Deposits First Sample on Mars Surface \", 'paragraph': 'Filled with rock, the sample tube will be one of 10 forming a depot of tubes that could be considered for a journey to Earth by the Mars Sample Return campaign.'}, {'title': 'NASA Retires InSight Mars Lander Mission After Years of Science', 'paragraph': 'The mission has concluded that the solar-powered lander has run out of energy after more than four years on the Red Planet.'}, {'title': \"NASA's Perseverance Rover to Begin Building Martian Sample Depot\", 'paragraph': 'The 10 sample tubes being dropped on Mars’ surface so they can be studied on Earth in the future carry an amazing diversity of Red Planet geology.'}, {'title': \"NASA's Perseverance Rover Gets the Dirt on Mars\", 'paragraph': 'The mission’s first two samples of regolith – broken rock and dust – could help scientists better understand the Red Planet and engineers prepare for future missions there.'}, {'title': \"NASA's Perseverance Rover Investigates Intriguing Martian Bedrock\", 'paragraph': 'Exploring a sediment-rich location in this Mars delta offers tantalizing opportunities for the six-wheeler’s science team.'}, {'title': \"NASA's MAVEN Observes Martian Light Show Caused by Major Solar Storm\", 'paragraph': 'For the first time in its eight years orbiting Mars, NASA’s MAVEN mission witnessed two different types of ultraviolet aurorae simultaneously, the result of solar storms that began on Aug. 27.'}, {'title': \"NASA Prepares to Say 'Farewell' to InSight Spacecraft\", 'paragraph': 'A closer look at what goes into wrapping up the mission as the spacecraft’s power supply continues to dwindle.'}, {'title': 'NASA and ESA Agree on Next Steps to Return Mars Samples to Earth', 'paragraph': 'The agency’s Perseverance rover will establish the first sample depot on Mars.'}, {'title': \"NASA's InSight Lander Detects Stunning Meteoroid Impact on Mars\", 'paragraph': 'The agency’s lander felt the ground shake during the impact while cameras aboard the Mars Reconnaissance Orbiter spotted the yawning new crater from space.'}, {'title': 'NASA To Host Briefing on InSight, Mars Reconnaissance Orbiter Findings', 'paragraph': 'Scientists from two Mars missions will discuss how they combined images and data for a major finding on the Red Planet.'}, {'title': 'Why NASA Is Trying To Crash Land on Mars', 'paragraph': 'Like a car’s crumple zone, the experimental SHIELD lander is designed to absorb a hard impact.'}, {'title': 'Curiosity Mars Rover Reaches Long-Awaited Salty Region', 'paragraph': 'After years of climbing, the Mars rover has arrived at a special region believed to have formed as Mars’ climate was drying.'}, {'title': 'Mars Mission Shields Up for Tests', 'paragraph': 'Protecting Mars Sample Return spacecraft from micrometeorites requires high-caliber work.'}, {'title': \"NASA's InSight Waits Out Dust Storm\", 'paragraph': 'InSight’s team is taking steps to help the solar-powered lander continue operating for as long as possible. '}, {'title': \"NASA's InSight 'Hears' Its First Meteoroid Impacts on Mars\", 'paragraph': 'The Mars lander’s seismometer has picked up vibrations from four separate impacts in the past two years.'}, {'title': \"NASA's Perseverance Rover Investigates Geologically Rich Mars Terrain\", 'paragraph': 'The latest findings provide greater detail on a region of the Red Planet that has a watery past and is yielding promising samples for the NASA-ESA Mars Sample Return campaign.'}, {'title': 'NASA to Host Briefing on Perseverance Mars Rover Mission Operations', 'paragraph': 'Members of the mission will discuss the rover’s activities as it gathers samples in an ancient river delta.'}, {'title': \"NASA's Perseverance Makes New Discoveries in Mars' Jezero Crater\", 'paragraph': 'The rover found that Jezero Crater’s floor is made up of volcanic rocks that have interacted with water.'}, {'title': \"10 Years Since Landing, NASA's Curiosity Mars Rover Still Has Drive\", 'paragraph': 'Despite signs of wear, the intrepid spacecraft is about to start an exciting new chapter of its mission as it climbs a Martian mountain.'}, {'title': \"SAM's Top 5 Discoveries Aboard NASA's Curiosity Rover at Mars\", 'paragraph': '“Selfie” of the Curiosity rover with inset showing the SAM instrument prior to installation on the rover.'}, {'title': 'NASA Will Inspire World When It Returns Mars Samples to Earth in 2033', 'paragraph': 'This advanced mission architecture will include two sample recovery helicopters.'}, {'title': 'NASA Marks 25 Years Since Pathfinder Touched Down on Mars ', 'paragraph': 'The newly deployed Sojourner rover – the first of its kind on the Red Planet – sits on the Martian surface after driving down Pathfinder’s ramp.'}, {'title': 'NASA, ESA to Discuss Mars Sample Return Mission', 'paragraph': 'The news briefing will present the architecture proposal that is expected to be finalized in September 2022. '}, {'title': \"NASA's Perseverance Scouts Mars Sample Return Campaign Landing Sites\", 'paragraph': 'The six-wheeled explorer has inspected a stretch of the Red Planet to see if it is flat enough for NASA’s next Mars lander.'}, {'title': \"My Favorite Martian Image: 'Enchanted' Rocks at Jezero Crater\", 'paragraph': 'Not even Obi-Wan Kenobi could convince Perseverance’s Katie Stack Morgan that these are not the rocks she’s looking for.'}, {'title': 'Help NASA Scientists Find Clouds on Mars', 'paragraph': 'By identifying clouds in data collected by NASA’s Mars Reconnaissance Orbiter, the public can increase scientists’ understanding of the Red Planet’s atmosphere.'}, {'title': \"NASA's Curiosity Takes Inventory of Key Life Ingredient on Mars\", 'paragraph': 'Newly published research quantifies the presence of organic carbon in Martian rocks.'}, {'title': 'NASA Mars Orbiter Releasing One of Its Last Rainbow-Colored Maps ', 'paragraph': 'The map, to be released in batches over six months, covers the vast majority of the planet, revealing dozens of minerals found on its surface.'}, {'title': \"NASA's Curiosity Captures Stunning Views of a Changing Mars Landscape\", 'paragraph': 'Striking rock formations documented by the rover provide evidence of a drying climate in the Red Planet’s ancient past.'}, {'title': \"NASA's InSight Gets a Few Extra Weeks of Mars Science\", 'paragraph': 'The mission’s team has chosen to operate its seismometer longer than previously planned, although the lander will run out of power sooner as a result.'}, {'title': 'NASA, Partner Establish New Research Group for Mars Sample Return Program', 'paragraph': 'Sixteen scientists from the U.S., Europe, Canada, and Japan have been chosen to help future samples from the Red Planet achieve their full potential.'}, {'title': \"NASA's Perseverance Studies the Wild Winds of Jezero Crater\", 'paragraph': 'The rover’s weather sensors witnessed daily whirlwinds and more while studying the Red Planet.'}, {'title': \"NASA's MAVEN Spacecraft Resumes Science & Operations, Exits Safe Mode\", 'paragraph': 'NASA’s Mars Atmosphere and Volatile EvolutioN, or MAVEN, mission returned to normal science and relay operations on May 28, 2022, after recovering from an extended safe mode event. '}, {'title': \"Engineers Keep an Eye on Fuel Supply of NASA's Oldest Mars Orbiter\", 'paragraph': 'Measuring the fuel supply on a decades-old spacecraft without a fuel gauge is no easy task. '}, {'title': \"NASA's Curiosity Views First 'Sun Rays' on Mars\", 'paragraph': 'The veteran rover captured a dazzling sunset at the start of a new cloud-imaging campaign.'}, {'title': \"NASA's Perseverance Rover Set to Begin Third Year at Jezero Crater\", 'paragraph': 'After completing the first sample depot on another world, the rover continues its hunt for Mars rocks worthy of study on Earth.'}, {'title': \"NASA's Perseverance Rover Shows Off Collection of Mars Samples\", 'paragraph': 'The Red Planet rover snapped a portrait of the sample depot it has assembled with 10 backup sample tubes that could be returned to Earth by a future mission.'}, {'title': \"NASA's Curiosity Finds Surprise Clues to Mars' Watery Past\", 'paragraph': 'Among other discoveries made by the rover, rippled rock textures suggest lakes existed in a region of ancient Mars that scientists expected to be drier. '}, {'title': \"NASA's Perseverance Rover Completes Mars Sample Depot\", 'paragraph': 'Ten sample tubes, capturing an amazing variety of Martian geology, have been deposited on Mars’ surface so they could be studied on Earth in the future.'}, {'title': 'NASA Explores a Winter Wonderland on Mars', 'paragraph': 'Cube-shaped snow, icy landscapes, and frost are all part of the Red Planet’s coldest season.'}, {'title': \"NASA's Perseverance Rover Deposits First Sample on Mars Surface \", 'paragraph': 'Filled with rock, the sample tube will be one of 10 forming a depot of tubes that could be considered for a journey to Earth by the Mars Sample Return campaign.'}, {'title': 'NASA Retires InSight Mars Lander Mission After Years of Science', 'paragraph': 'The mission has concluded that the solar-powered lander has run out of energy after more than four years on the Red Planet.'}, {'title': \"NASA's Perseverance Rover to Begin Building Martian Sample Depot\", 'paragraph': 'The 10 sample tubes being dropped on Mars’ surface so they can be studied on Earth in the future carry an amazing diversity of Red Planet geology.'}, {'title': \"NASA's Perseverance Rover Gets the Dirt on Mars\", 'paragraph': 'The mission’s first two samples of regolith – broken rock and dust – could help scientists better understand the Red Planet and engineers prepare for future missions there.'}, {'title': \"NASA's Perseverance Rover Investigates Intriguing Martian Bedrock\", 'paragraph': 'Exploring a sediment-rich location in this Mars delta offers tantalizing opportunities for the six-wheeler’s science team.'}, {'title': \"NASA's MAVEN Observes Martian Light Show Caused by Major Solar Storm\", 'paragraph': 'For the first time in its eight years orbiting Mars, NASA’s MAVEN mission witnessed two different types of ultraviolet aurorae simultaneously, the result of solar storms that began on Aug. 27.'}, {'title': \"NASA Prepares to Say 'Farewell' to InSight Spacecraft\", 'paragraph': 'A closer look at what goes into wrapping up the mission as the spacecraft’s power supply continues to dwindle.'}, {'title': 'NASA and ESA Agree on Next Steps to Return Mars Samples to Earth', 'paragraph': 'The agency’s Perseverance rover will establish the first sample depot on Mars.'}, {'title': \"NASA's InSight Lander Detects Stunning Meteoroid Impact on Mars\", 'paragraph': 'The agency’s lander felt the ground shake during the impact while cameras aboard the Mars Reconnaissance Orbiter spotted the yawning new crater from space.'}, {'title': 'NASA To Host Briefing on InSight, Mars Reconnaissance Orbiter Findings', 'paragraph': 'Scientists from two Mars missions will discuss how they combined images and data for a major finding on the Red Planet.'}, {'title': 'Why NASA Is Trying To Crash Land on Mars', 'paragraph': 'Like a car’s crumple zone, the experimental SHIELD lander is designed to absorb a hard impact.'}, {'title': 'Curiosity Mars Rover Reaches Long-Awaited Salty Region', 'paragraph': 'After years of climbing, the Mars rover has arrived at a special region believed to have formed as Mars’ climate was drying.'}, {'title': 'Mars Mission Shields Up for Tests', 'paragraph': 'Protecting Mars Sample Return spacecraft from micrometeorites requires high-caliber work.'}, {'title': \"NASA's InSight Waits Out Dust Storm\", 'paragraph': 'InSight’s team is taking steps to help the solar-powered lander continue operating for as long as possible. '}, {'title': \"NASA's InSight 'Hears' Its First Meteoroid Impacts on Mars\", 'paragraph': 'The Mars lander’s seismometer has picked up vibrations from four separate impacts in the past two years.'}, {'title': \"NASA's Perseverance Rover Investigates Geologically Rich Mars Terrain\", 'paragraph': 'The latest findings provide greater detail on a region of the Red Planet that has a watery past and is yielding promising samples for the NASA-ESA Mars Sample Return campaign.'}, {'title': 'NASA to Host Briefing on Perseverance Mars Rover Mission Operations', 'paragraph': 'Members of the mission will discuss the rover’s activities as it gathers samples in an ancient river delta.'}, {'title': \"NASA's Perseverance Makes New Discoveries in Mars' Jezero Crater\", 'paragraph': 'The rover found that Jezero Crater’s floor is made up of volcanic rocks that have interacted with water.'}, {'title': \"10 Years Since Landing, NASA's Curiosity Mars Rover Still Has Drive\", 'paragraph': 'Despite signs of wear, the intrepid spacecraft is about to start an exciting new chapter of its mission as it climbs a Martian mountain.'}, {'title': \"SAM's Top 5 Discoveries Aboard NASA's Curiosity Rover at Mars\", 'paragraph': '“Selfie” of the Curiosity rover with inset showing the SAM instrument prior to installation on the rover.'}, {'title': 'NASA Will Inspire World When It Returns Mars Samples to Earth in 2033', 'paragraph': 'This advanced mission architecture will include two sample recovery helicopters.'}, {'title': 'NASA Marks 25 Years Since Pathfinder Touched Down on Mars ', 'paragraph': 'The newly deployed Sojourner rover – the first of its kind on the Red Planet – sits on the Martian surface after driving down Pathfinder’s ramp.'}, {'title': 'NASA, ESA to Discuss Mars Sample Return Mission', 'paragraph': 'The news briefing will present the architecture proposal that is expected to be finalized in September 2022. '}, {'title': \"NASA's Perseverance Scouts Mars Sample Return Campaign Landing Sites\", 'paragraph': 'The six-wheeled explorer has inspected a stretch of the Red Planet to see if it is flat enough for NASA’s next Mars lander.'}, {'title': \"My Favorite Martian Image: 'Enchanted' Rocks at Jezero Crater\", 'paragraph': 'Not even Obi-Wan Kenobi could convince Perseverance’s Katie Stack Morgan that these are not the rocks she’s looking for.'}, {'title': 'Help NASA Scientists Find Clouds on Mars', 'paragraph': 'By identifying clouds in data collected by NASA’s Mars Reconnaissance Orbiter, the public can increase scientists’ understanding of the Red Planet’s atmosphere.'}, {'title': \"NASA's Curiosity Takes Inventory of Key Life Ingredient on Mars\", 'paragraph': 'Newly published research quantifies the presence of organic carbon in Martian rocks.'}, {'title': 'NASA Mars Orbiter Releasing One of Its Last Rainbow-Colored Maps ', 'paragraph': 'The map, to be released in batches over six months, covers the vast majority of the planet, revealing dozens of minerals found on its surface.'}, {'title': \"NASA's Curiosity Captures Stunning Views of a Changing Mars Landscape\", 'paragraph': 'Striking rock formations documented by the rover provide evidence of a drying climate in the Red Planet’s ancient past.'}, {'title': \"NASA's InSight Gets a Few Extra Weeks of Mars Science\", 'paragraph': 'The mission’s team has chosen to operate its seismometer longer than previously planned, although the lander will run out of power sooner as a result.'}, {'title': 'NASA, Partner Establish New Research Group for Mars Sample Return Program', 'paragraph': 'Sixteen scientists from the U.S., Europe, Canada, and Japan have been chosen to help future samples from the Red Planet achieve their full potential.'}, {'title': \"NASA's Perseverance Studies the Wild Winds of Jezero Crater\", 'paragraph': 'The rover’s weather sensors witnessed daily whirlwinds and more while studying the Red Planet.'}, {'title': \"NASA's MAVEN Spacecraft Resumes Science & Operations, Exits Safe Mode\", 'paragraph': 'NASA’s Mars Atmosphere and Volatile EvolutioN, or MAVEN, mission returned to normal science and relay operations on May 28, 2022, after recovering from an extended safe mode event. '}]\n"
     ]
    }
   ],
   "source": [
    "# Print the list to confirm success\n",
    "print(data_dict)"
   ]
  },
  {
   "cell_type": "code",
   "execution_count": null,
   "metadata": {},
   "outputs": [],
   "source": [
    "browser.quit()"
   ]
  },
  {
   "cell_type": "code",
   "execution_count": null,
   "metadata": {},
   "outputs": [],
   "source": []
  }
 ],
 "metadata": {
  "kernelspec": {
   "display_name": "Python 3 (ipykernel)",
   "language": "python",
   "name": "python3"
  },
  "language_info": {
   "codemirror_mode": {
    "name": "ipython",
    "version": 3
   },
   "file_extension": ".py",
   "mimetype": "text/x-python",
   "name": "python",
   "nbconvert_exporter": "python",
   "pygments_lexer": "ipython3",
   "version": "3.9.13"
  }
 },
 "nbformat": 4,
 "nbformat_minor": 4
}
